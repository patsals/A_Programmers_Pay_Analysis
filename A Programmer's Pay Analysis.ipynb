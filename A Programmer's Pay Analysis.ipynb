{
 "cells": [
  {
   "cell_type": "markdown",
   "metadata": {},
   "source": [
    "A Programmer's Pay Analysis"
   ]
  },
  {
   "cell_type": "markdown",
   "metadata": {},
   "source": [
    "Patrick Salsbury"
   ]
  },
  {
   "cell_type": "markdown",
   "metadata": {},
   "source": [
    "The scope of this project is to determine if there are relationships between the salary of a programmer and their years coding, the age they first code, their education level, the language they work with, and whether or not they do it as a hobby. In addition, I will be using a csv file full of data that was obtained through a survey conducted on users who visited stackoverflow.com for a short period of time."
   ]
  },
  {
   "cell_type": "markdown",
   "metadata": {},
   "source": [
    "I obtained all my data from https://www.kaggle.com/boss0ayush/salary-survey-data . I was inspired to do this project because I noticed that no one else has submitted any analysis yet and also because I am considering a field in computer science/data science and I thought it would be useful to see any helpful correlations in a career I am pursuing as my first data science project."
   ]
  },
  {
   "cell_type": "code",
   "execution_count": 663,
   "metadata": {},
   "outputs": [],
   "source": [
    "import pandas\n",
    "import numpy\n",
    "import matplotlib.pyplot as plt\n",
    "from matplotlib.pyplot import figure"
   ]
  },
  {
   "cell_type": "markdown",
   "metadata": {},
   "source": [
    "Let us read in the data from the file and do a quick observation."
   ]
  },
  {
   "cell_type": "code",
   "execution_count": 664,
   "metadata": {},
   "outputs": [
    {
     "name": "stdout",
     "output_type": "stream",
     "text": [
      "Size of data: (64461, 61)\n"
     ]
    },
    {
     "data": {
      "text/html": [
       "<div>\n",
       "<style scoped>\n",
       "    .dataframe tbody tr th:only-of-type {\n",
       "        vertical-align: middle;\n",
       "    }\n",
       "\n",
       "    .dataframe tbody tr th {\n",
       "        vertical-align: top;\n",
       "    }\n",
       "\n",
       "    .dataframe thead th {\n",
       "        text-align: right;\n",
       "    }\n",
       "</style>\n",
       "<table border=\"1\" class=\"dataframe\">\n",
       "  <thead>\n",
       "    <tr style=\"text-align: right;\">\n",
       "      <th></th>\n",
       "      <th>Respondent</th>\n",
       "      <th>MainBranch</th>\n",
       "      <th>Hobbyist</th>\n",
       "      <th>Age</th>\n",
       "      <th>Age1stCode</th>\n",
       "      <th>CompFreq</th>\n",
       "      <th>CompTotal</th>\n",
       "      <th>ConvertedComp</th>\n",
       "      <th>Country</th>\n",
       "      <th>CurrencyDesc</th>\n",
       "      <th>...</th>\n",
       "      <th>SurveyEase</th>\n",
       "      <th>SurveyLength</th>\n",
       "      <th>Trans</th>\n",
       "      <th>UndergradMajor</th>\n",
       "      <th>WebframeDesireNextYear</th>\n",
       "      <th>WebframeWorkedWith</th>\n",
       "      <th>WelcomeChange</th>\n",
       "      <th>WorkWeekHrs</th>\n",
       "      <th>YearsCode</th>\n",
       "      <th>YearsCodePro</th>\n",
       "    </tr>\n",
       "  </thead>\n",
       "  <tbody>\n",
       "    <tr>\n",
       "      <th>0</th>\n",
       "      <td>1</td>\n",
       "      <td>I am a developer by profession</td>\n",
       "      <td>Yes</td>\n",
       "      <td>NaN</td>\n",
       "      <td>13</td>\n",
       "      <td>Monthly</td>\n",
       "      <td>NaN</td>\n",
       "      <td>NaN</td>\n",
       "      <td>Germany</td>\n",
       "      <td>European Euro</td>\n",
       "      <td>...</td>\n",
       "      <td>Neither easy nor difficult</td>\n",
       "      <td>Appropriate in length</td>\n",
       "      <td>No</td>\n",
       "      <td>Computer science, computer engineering, or sof...</td>\n",
       "      <td>ASP.NET Core</td>\n",
       "      <td>ASP.NET;ASP.NET Core</td>\n",
       "      <td>Just as welcome now as I felt last year</td>\n",
       "      <td>50.0</td>\n",
       "      <td>36</td>\n",
       "      <td>27</td>\n",
       "    </tr>\n",
       "    <tr>\n",
       "      <th>1</th>\n",
       "      <td>2</td>\n",
       "      <td>I am a developer by profession</td>\n",
       "      <td>No</td>\n",
       "      <td>NaN</td>\n",
       "      <td>19</td>\n",
       "      <td>NaN</td>\n",
       "      <td>NaN</td>\n",
       "      <td>NaN</td>\n",
       "      <td>United Kingdom</td>\n",
       "      <td>Pound sterling</td>\n",
       "      <td>...</td>\n",
       "      <td>NaN</td>\n",
       "      <td>NaN</td>\n",
       "      <td>NaN</td>\n",
       "      <td>Computer science, computer engineering, or sof...</td>\n",
       "      <td>NaN</td>\n",
       "      <td>NaN</td>\n",
       "      <td>Somewhat more welcome now than last year</td>\n",
       "      <td>NaN</td>\n",
       "      <td>7</td>\n",
       "      <td>4</td>\n",
       "    </tr>\n",
       "    <tr>\n",
       "      <th>2</th>\n",
       "      <td>3</td>\n",
       "      <td>I code primarily as a hobby</td>\n",
       "      <td>Yes</td>\n",
       "      <td>NaN</td>\n",
       "      <td>15</td>\n",
       "      <td>NaN</td>\n",
       "      <td>NaN</td>\n",
       "      <td>NaN</td>\n",
       "      <td>Russian Federation</td>\n",
       "      <td>NaN</td>\n",
       "      <td>...</td>\n",
       "      <td>Neither easy nor difficult</td>\n",
       "      <td>Appropriate in length</td>\n",
       "      <td>NaN</td>\n",
       "      <td>NaN</td>\n",
       "      <td>NaN</td>\n",
       "      <td>NaN</td>\n",
       "      <td>Somewhat more welcome now than last year</td>\n",
       "      <td>NaN</td>\n",
       "      <td>4</td>\n",
       "      <td>NaN</td>\n",
       "    </tr>\n",
       "    <tr>\n",
       "      <th>3</th>\n",
       "      <td>4</td>\n",
       "      <td>I am a developer by profession</td>\n",
       "      <td>Yes</td>\n",
       "      <td>25.0</td>\n",
       "      <td>18</td>\n",
       "      <td>NaN</td>\n",
       "      <td>NaN</td>\n",
       "      <td>NaN</td>\n",
       "      <td>Albania</td>\n",
       "      <td>Albanian lek</td>\n",
       "      <td>...</td>\n",
       "      <td>NaN</td>\n",
       "      <td>NaN</td>\n",
       "      <td>No</td>\n",
       "      <td>Computer science, computer engineering, or sof...</td>\n",
       "      <td>NaN</td>\n",
       "      <td>NaN</td>\n",
       "      <td>Somewhat less welcome now than last year</td>\n",
       "      <td>40.0</td>\n",
       "      <td>7</td>\n",
       "      <td>4</td>\n",
       "    </tr>\n",
       "    <tr>\n",
       "      <th>4</th>\n",
       "      <td>5</td>\n",
       "      <td>I used to be a developer by profession, but no...</td>\n",
       "      <td>Yes</td>\n",
       "      <td>31.0</td>\n",
       "      <td>16</td>\n",
       "      <td>NaN</td>\n",
       "      <td>NaN</td>\n",
       "      <td>NaN</td>\n",
       "      <td>United States</td>\n",
       "      <td>NaN</td>\n",
       "      <td>...</td>\n",
       "      <td>Easy</td>\n",
       "      <td>Too short</td>\n",
       "      <td>No</td>\n",
       "      <td>Computer science, computer engineering, or sof...</td>\n",
       "      <td>Django;Ruby on Rails</td>\n",
       "      <td>Ruby on Rails</td>\n",
       "      <td>Just as welcome now as I felt last year</td>\n",
       "      <td>NaN</td>\n",
       "      <td>15</td>\n",
       "      <td>8</td>\n",
       "    </tr>\n",
       "  </tbody>\n",
       "</table>\n",
       "<p>5 rows × 61 columns</p>\n",
       "</div>"
      ],
      "text/plain": [
       "   Respondent                                         MainBranch Hobbyist  \\\n",
       "0           1                     I am a developer by profession      Yes   \n",
       "1           2                     I am a developer by profession       No   \n",
       "2           3                        I code primarily as a hobby      Yes   \n",
       "3           4                     I am a developer by profession      Yes   \n",
       "4           5  I used to be a developer by profession, but no...      Yes   \n",
       "\n",
       "    Age Age1stCode CompFreq  CompTotal  ConvertedComp             Country  \\\n",
       "0   NaN         13  Monthly        NaN            NaN             Germany   \n",
       "1   NaN         19      NaN        NaN            NaN      United Kingdom   \n",
       "2   NaN         15      NaN        NaN            NaN  Russian Federation   \n",
       "3  25.0         18      NaN        NaN            NaN             Albania   \n",
       "4  31.0         16      NaN        NaN            NaN       United States   \n",
       "\n",
       "     CurrencyDesc  ...                  SurveyEase           SurveyLength  \\\n",
       "0   European Euro  ...  Neither easy nor difficult  Appropriate in length   \n",
       "1  Pound sterling  ...                         NaN                    NaN   \n",
       "2             NaN  ...  Neither easy nor difficult  Appropriate in length   \n",
       "3    Albanian lek  ...                         NaN                    NaN   \n",
       "4             NaN  ...                        Easy              Too short   \n",
       "\n",
       "  Trans                                     UndergradMajor  \\\n",
       "0    No  Computer science, computer engineering, or sof...   \n",
       "1   NaN  Computer science, computer engineering, or sof...   \n",
       "2   NaN                                                NaN   \n",
       "3    No  Computer science, computer engineering, or sof...   \n",
       "4    No  Computer science, computer engineering, or sof...   \n",
       "\n",
       "  WebframeDesireNextYear    WebframeWorkedWith  \\\n",
       "0           ASP.NET Core  ASP.NET;ASP.NET Core   \n",
       "1                    NaN                   NaN   \n",
       "2                    NaN                   NaN   \n",
       "3                    NaN                   NaN   \n",
       "4   Django;Ruby on Rails         Ruby on Rails   \n",
       "\n",
       "                              WelcomeChange WorkWeekHrs YearsCode YearsCodePro  \n",
       "0   Just as welcome now as I felt last year        50.0        36           27  \n",
       "1  Somewhat more welcome now than last year         NaN         7            4  \n",
       "2  Somewhat more welcome now than last year         NaN         4          NaN  \n",
       "3  Somewhat less welcome now than last year        40.0         7            4  \n",
       "4   Just as welcome now as I felt last year         NaN        15            8  \n",
       "\n",
       "[5 rows x 61 columns]"
      ]
     },
     "execution_count": 664,
     "metadata": {},
     "output_type": "execute_result"
    }
   ],
   "source": [
    "data = pandas.read_csv(\"survey_results_public.csv\")\n",
    "print(\"Size of data:\", data.shape)\n",
    "data.head()"
   ]
  },
  {
   "cell_type": "markdown",
   "metadata": {},
   "source": [
    "After examining the data, we can see there are 61 columns and a lot of them are useless to us in terms of our experiment. Therefore let us extract only the columns that we think will be useful examining the correlation in terms with."
   ]
  },
  {
   "cell_type": "code",
   "execution_count": 665,
   "metadata": {},
   "outputs": [
    {
     "name": "stdout",
     "output_type": "stream",
     "text": [
      "Size of data: (64461, 7)\n"
     ]
    },
    {
     "data": {
      "text/html": [
       "<div>\n",
       "<style scoped>\n",
       "    .dataframe tbody tr th:only-of-type {\n",
       "        vertical-align: middle;\n",
       "    }\n",
       "\n",
       "    .dataframe tbody tr th {\n",
       "        vertical-align: top;\n",
       "    }\n",
       "\n",
       "    .dataframe thead th {\n",
       "        text-align: right;\n",
       "    }\n",
       "</style>\n",
       "<table border=\"1\" class=\"dataframe\">\n",
       "  <thead>\n",
       "    <tr style=\"text-align: right;\">\n",
       "      <th></th>\n",
       "      <th>CompTotal</th>\n",
       "      <th>Country</th>\n",
       "      <th>Hobbyist</th>\n",
       "      <th>Age1stCode</th>\n",
       "      <th>EdLevel</th>\n",
       "      <th>YearsCode</th>\n",
       "      <th>LanguageWorkedWith</th>\n",
       "    </tr>\n",
       "  </thead>\n",
       "  <tbody>\n",
       "    <tr>\n",
       "      <th>0</th>\n",
       "      <td>NaN</td>\n",
       "      <td>Germany</td>\n",
       "      <td>Yes</td>\n",
       "      <td>13</td>\n",
       "      <td>Master’s degree (M.A., M.S., M.Eng., MBA, etc.)</td>\n",
       "      <td>36</td>\n",
       "      <td>C#;HTML/CSS;JavaScript</td>\n",
       "    </tr>\n",
       "    <tr>\n",
       "      <th>1</th>\n",
       "      <td>NaN</td>\n",
       "      <td>United Kingdom</td>\n",
       "      <td>No</td>\n",
       "      <td>19</td>\n",
       "      <td>Bachelor’s degree (B.A., B.S., B.Eng., etc.)</td>\n",
       "      <td>7</td>\n",
       "      <td>JavaScript;Swift</td>\n",
       "    </tr>\n",
       "    <tr>\n",
       "      <th>2</th>\n",
       "      <td>NaN</td>\n",
       "      <td>Russian Federation</td>\n",
       "      <td>Yes</td>\n",
       "      <td>15</td>\n",
       "      <td>NaN</td>\n",
       "      <td>4</td>\n",
       "      <td>Objective-C;Python;Swift</td>\n",
       "    </tr>\n",
       "    <tr>\n",
       "      <th>3</th>\n",
       "      <td>NaN</td>\n",
       "      <td>Albania</td>\n",
       "      <td>Yes</td>\n",
       "      <td>18</td>\n",
       "      <td>Master’s degree (M.A., M.S., M.Eng., MBA, etc.)</td>\n",
       "      <td>7</td>\n",
       "      <td>NaN</td>\n",
       "    </tr>\n",
       "    <tr>\n",
       "      <th>4</th>\n",
       "      <td>NaN</td>\n",
       "      <td>United States</td>\n",
       "      <td>Yes</td>\n",
       "      <td>16</td>\n",
       "      <td>Bachelor’s degree (B.A., B.S., B.Eng., etc.)</td>\n",
       "      <td>15</td>\n",
       "      <td>HTML/CSS;Ruby;SQL</td>\n",
       "    </tr>\n",
       "    <tr>\n",
       "      <th>5</th>\n",
       "      <td>NaN</td>\n",
       "      <td>Germany</td>\n",
       "      <td>No</td>\n",
       "      <td>14</td>\n",
       "      <td>Secondary school (e.g. American high school, G...</td>\n",
       "      <td>6</td>\n",
       "      <td>HTML/CSS;Java;JavaScript</td>\n",
       "    </tr>\n",
       "    <tr>\n",
       "      <th>6</th>\n",
       "      <td>NaN</td>\n",
       "      <td>India</td>\n",
       "      <td>Yes</td>\n",
       "      <td>18</td>\n",
       "      <td>Bachelor’s degree (B.A., B.S., B.Eng., etc.)</td>\n",
       "      <td>6</td>\n",
       "      <td>C#;HTML/CSS;PHP</td>\n",
       "    </tr>\n",
       "    <tr>\n",
       "      <th>7</th>\n",
       "      <td>116000.0</td>\n",
       "      <td>United States</td>\n",
       "      <td>Yes</td>\n",
       "      <td>12</td>\n",
       "      <td>Bachelor’s degree (B.A., B.S., B.Eng., etc.)</td>\n",
       "      <td>17</td>\n",
       "      <td>Python;SQL</td>\n",
       "    </tr>\n",
       "    <tr>\n",
       "      <th>8</th>\n",
       "      <td>NaN</td>\n",
       "      <td>Tunisia</td>\n",
       "      <td>No</td>\n",
       "      <td>20</td>\n",
       "      <td>Professional degree (JD, MD, etc.)</td>\n",
       "      <td>6</td>\n",
       "      <td>HTML/CSS;JavaScript;PHP</td>\n",
       "    </tr>\n",
       "    <tr>\n",
       "      <th>9</th>\n",
       "      <td>25000.0</td>\n",
       "      <td>United Kingdom</td>\n",
       "      <td>Yes</td>\n",
       "      <td>14</td>\n",
       "      <td>Master’s degree (M.A., M.S., M.Eng., MBA, etc.)</td>\n",
       "      <td>8</td>\n",
       "      <td>HTML/CSS;Java;JavaScript;Python;SQL</td>\n",
       "    </tr>\n",
       "  </tbody>\n",
       "</table>\n",
       "</div>"
      ],
      "text/plain": [
       "   CompTotal             Country Hobbyist Age1stCode  \\\n",
       "0        NaN             Germany      Yes         13   \n",
       "1        NaN      United Kingdom       No         19   \n",
       "2        NaN  Russian Federation      Yes         15   \n",
       "3        NaN             Albania      Yes         18   \n",
       "4        NaN       United States      Yes         16   \n",
       "5        NaN             Germany       No         14   \n",
       "6        NaN               India      Yes         18   \n",
       "7   116000.0       United States      Yes         12   \n",
       "8        NaN             Tunisia       No         20   \n",
       "9    25000.0      United Kingdom      Yes         14   \n",
       "\n",
       "                                             EdLevel YearsCode  \\\n",
       "0    Master’s degree (M.A., M.S., M.Eng., MBA, etc.)        36   \n",
       "1       Bachelor’s degree (B.A., B.S., B.Eng., etc.)         7   \n",
       "2                                                NaN         4   \n",
       "3    Master’s degree (M.A., M.S., M.Eng., MBA, etc.)         7   \n",
       "4       Bachelor’s degree (B.A., B.S., B.Eng., etc.)        15   \n",
       "5  Secondary school (e.g. American high school, G...         6   \n",
       "6       Bachelor’s degree (B.A., B.S., B.Eng., etc.)         6   \n",
       "7       Bachelor’s degree (B.A., B.S., B.Eng., etc.)        17   \n",
       "8                 Professional degree (JD, MD, etc.)         6   \n",
       "9    Master’s degree (M.A., M.S., M.Eng., MBA, etc.)         8   \n",
       "\n",
       "                    LanguageWorkedWith  \n",
       "0               C#;HTML/CSS;JavaScript  \n",
       "1                     JavaScript;Swift  \n",
       "2             Objective-C;Python;Swift  \n",
       "3                                  NaN  \n",
       "4                    HTML/CSS;Ruby;SQL  \n",
       "5             HTML/CSS;Java;JavaScript  \n",
       "6                      C#;HTML/CSS;PHP  \n",
       "7                           Python;SQL  \n",
       "8              HTML/CSS;JavaScript;PHP  \n",
       "9  HTML/CSS;Java;JavaScript;Python;SQL  "
      ]
     },
     "execution_count": 665,
     "metadata": {},
     "output_type": "execute_result"
    }
   ],
   "source": [
    "data = data[[\"CompTotal\",\"Country\",\"Hobbyist\",\"Age1stCode\",\"EdLevel\",\"YearsCode\",\"LanguageWorkedWith\"]]\n",
    "print(\"Size of data:\", data.shape)\n",
    "data.head(10)"
   ]
  },
  {
   "cell_type": "markdown",
   "metadata": {},
   "source": [
    "Since we want to see the relationship between income and the other different attributes, we must remove all the rows NaN values in the CompTotal column."
   ]
  },
  {
   "cell_type": "code",
   "execution_count": 666,
   "metadata": {},
   "outputs": [
    {
     "name": "stdout",
     "output_type": "stream",
     "text": [
      "Size of data: (34826, 7)\n"
     ]
    },
    {
     "data": {
      "text/html": [
       "<div>\n",
       "<style scoped>\n",
       "    .dataframe tbody tr th:only-of-type {\n",
       "        vertical-align: middle;\n",
       "    }\n",
       "\n",
       "    .dataframe tbody tr th {\n",
       "        vertical-align: top;\n",
       "    }\n",
       "\n",
       "    .dataframe thead th {\n",
       "        text-align: right;\n",
       "    }\n",
       "</style>\n",
       "<table border=\"1\" class=\"dataframe\">\n",
       "  <thead>\n",
       "    <tr style=\"text-align: right;\">\n",
       "      <th></th>\n",
       "      <th>CompTotal</th>\n",
       "      <th>Country</th>\n",
       "      <th>Hobbyist</th>\n",
       "      <th>Age1stCode</th>\n",
       "      <th>EdLevel</th>\n",
       "      <th>YearsCode</th>\n",
       "      <th>LanguageWorkedWith</th>\n",
       "    </tr>\n",
       "  </thead>\n",
       "  <tbody>\n",
       "    <tr>\n",
       "      <th>7</th>\n",
       "      <td>116000.0</td>\n",
       "      <td>United States</td>\n",
       "      <td>Yes</td>\n",
       "      <td>12</td>\n",
       "      <td>Bachelor’s degree (B.A., B.S., B.Eng., etc.)</td>\n",
       "      <td>17</td>\n",
       "      <td>Python;SQL</td>\n",
       "    </tr>\n",
       "    <tr>\n",
       "      <th>9</th>\n",
       "      <td>25000.0</td>\n",
       "      <td>United Kingdom</td>\n",
       "      <td>Yes</td>\n",
       "      <td>14</td>\n",
       "      <td>Master’s degree (M.A., M.S., M.Eng., MBA, etc.)</td>\n",
       "      <td>8</td>\n",
       "      <td>HTML/CSS;Java;JavaScript;Python;SQL</td>\n",
       "    </tr>\n",
       "    <tr>\n",
       "      <th>10</th>\n",
       "      <td>31000.0</td>\n",
       "      <td>United Kingdom</td>\n",
       "      <td>Yes</td>\n",
       "      <td>13</td>\n",
       "      <td>Bachelor’s degree (B.A., B.S., B.Eng., etc.)</td>\n",
       "      <td>10</td>\n",
       "      <td>C#;JavaScript;Swift</td>\n",
       "    </tr>\n",
       "    <tr>\n",
       "      <th>11</th>\n",
       "      <td>1100.0</td>\n",
       "      <td>Spain</td>\n",
       "      <td>No</td>\n",
       "      <td>42</td>\n",
       "      <td>Some college/university study without earning ...</td>\n",
       "      <td>7</td>\n",
       "      <td>HTML/CSS;JavaScript</td>\n",
       "    </tr>\n",
       "    <tr>\n",
       "      <th>12</th>\n",
       "      <td>3000.0</td>\n",
       "      <td>Netherlands</td>\n",
       "      <td>Yes</td>\n",
       "      <td>14</td>\n",
       "      <td>Secondary school (e.g. American high school, G...</td>\n",
       "      <td>35</td>\n",
       "      <td>C;JavaScript;Python</td>\n",
       "    </tr>\n",
       "  </tbody>\n",
       "</table>\n",
       "</div>"
      ],
      "text/plain": [
       "    CompTotal         Country Hobbyist Age1stCode  \\\n",
       "7    116000.0   United States      Yes         12   \n",
       "9     25000.0  United Kingdom      Yes         14   \n",
       "10    31000.0  United Kingdom      Yes         13   \n",
       "11     1100.0           Spain       No         42   \n",
       "12     3000.0     Netherlands      Yes         14   \n",
       "\n",
       "                                              EdLevel YearsCode  \\\n",
       "7        Bachelor’s degree (B.A., B.S., B.Eng., etc.)        17   \n",
       "9     Master’s degree (M.A., M.S., M.Eng., MBA, etc.)         8   \n",
       "10       Bachelor’s degree (B.A., B.S., B.Eng., etc.)        10   \n",
       "11  Some college/university study without earning ...         7   \n",
       "12  Secondary school (e.g. American high school, G...        35   \n",
       "\n",
       "                     LanguageWorkedWith  \n",
       "7                            Python;SQL  \n",
       "9   HTML/CSS;Java;JavaScript;Python;SQL  \n",
       "10                  C#;JavaScript;Swift  \n",
       "11                  HTML/CSS;JavaScript  \n",
       "12                  C;JavaScript;Python  "
      ]
     },
     "execution_count": 666,
     "metadata": {},
     "output_type": "execute_result"
    }
   ],
   "source": [
    "data = data.dropna(subset = [\"CompTotal\"])\n",
    "print(\"Size of data:\", data.shape)\n",
    "data.head()"
   ]
  },
  {
   "cell_type": "markdown",
   "metadata": {},
   "source": [
    "Due to different types of currencies from varying countries, for the sake of this project lets only consider entries from the United States. So lets extract only United States values."
   ]
  },
  {
   "cell_type": "code",
   "execution_count": 667,
   "metadata": {
    "scrolled": false
   },
   "outputs": [
    {
     "name": "stdout",
     "output_type": "stream",
     "text": [
      "Size of data: (8171, 7)\n"
     ]
    },
    {
     "data": {
      "text/html": [
       "<div>\n",
       "<style scoped>\n",
       "    .dataframe tbody tr th:only-of-type {\n",
       "        vertical-align: middle;\n",
       "    }\n",
       "\n",
       "    .dataframe tbody tr th {\n",
       "        vertical-align: top;\n",
       "    }\n",
       "\n",
       "    .dataframe thead th {\n",
       "        text-align: right;\n",
       "    }\n",
       "</style>\n",
       "<table border=\"1\" class=\"dataframe\">\n",
       "  <thead>\n",
       "    <tr style=\"text-align: right;\">\n",
       "      <th></th>\n",
       "      <th>CompTotal</th>\n",
       "      <th>Country</th>\n",
       "      <th>Hobbyist</th>\n",
       "      <th>Age1stCode</th>\n",
       "      <th>EdLevel</th>\n",
       "      <th>YearsCode</th>\n",
       "      <th>LanguageWorkedWith</th>\n",
       "    </tr>\n",
       "  </thead>\n",
       "  <tbody>\n",
       "    <tr>\n",
       "      <th>7</th>\n",
       "      <td>116000.0</td>\n",
       "      <td>United States</td>\n",
       "      <td>Yes</td>\n",
       "      <td>12</td>\n",
       "      <td>Bachelor’s degree (B.A., B.S., B.Eng., etc.)</td>\n",
       "      <td>17</td>\n",
       "      <td>Python;SQL</td>\n",
       "    </tr>\n",
       "    <tr>\n",
       "      <th>13</th>\n",
       "      <td>66000.0</td>\n",
       "      <td>United States</td>\n",
       "      <td>Yes</td>\n",
       "      <td>13</td>\n",
       "      <td>Associate degree (A.A., A.S., etc.)</td>\n",
       "      <td>5</td>\n",
       "      <td>HTML/CSS;JavaScript;SQL;TypeScript</td>\n",
       "    </tr>\n",
       "    <tr>\n",
       "      <th>16</th>\n",
       "      <td>79000.0</td>\n",
       "      <td>United States</td>\n",
       "      <td>Yes</td>\n",
       "      <td>14</td>\n",
       "      <td>Bachelor’s degree (B.A., B.S., B.Eng., etc.)</td>\n",
       "      <td>7</td>\n",
       "      <td>C#;HTML/CSS;JavaScript;Python;SQL;VBA</td>\n",
       "    </tr>\n",
       "    <tr>\n",
       "      <th>17</th>\n",
       "      <td>105000.0</td>\n",
       "      <td>United States</td>\n",
       "      <td>Yes</td>\n",
       "      <td>12</td>\n",
       "      <td>Bachelor’s degree (B.A., B.S., B.Eng., etc.)</td>\n",
       "      <td>19</td>\n",
       "      <td>Bash/Shell/PowerShell;HTML/CSS;Perl</td>\n",
       "    </tr>\n",
       "    <tr>\n",
       "      <th>18</th>\n",
       "      <td>83400.0</td>\n",
       "      <td>United States</td>\n",
       "      <td>No</td>\n",
       "      <td>15</td>\n",
       "      <td>Bachelor’s degree (B.A., B.S., B.Eng., etc.)</td>\n",
       "      <td>9</td>\n",
       "      <td>Bash/Shell/PowerShell;C#;HTML/CSS;JavaScript;S...</td>\n",
       "    </tr>\n",
       "  </tbody>\n",
       "</table>\n",
       "</div>"
      ],
      "text/plain": [
       "    CompTotal        Country Hobbyist Age1stCode  \\\n",
       "7    116000.0  United States      Yes         12   \n",
       "13    66000.0  United States      Yes         13   \n",
       "16    79000.0  United States      Yes         14   \n",
       "17   105000.0  United States      Yes         12   \n",
       "18    83400.0  United States       No         15   \n",
       "\n",
       "                                         EdLevel YearsCode  \\\n",
       "7   Bachelor’s degree (B.A., B.S., B.Eng., etc.)        17   \n",
       "13           Associate degree (A.A., A.S., etc.)         5   \n",
       "16  Bachelor’s degree (B.A., B.S., B.Eng., etc.)         7   \n",
       "17  Bachelor’s degree (B.A., B.S., B.Eng., etc.)        19   \n",
       "18  Bachelor’s degree (B.A., B.S., B.Eng., etc.)         9   \n",
       "\n",
       "                                   LanguageWorkedWith  \n",
       "7                                          Python;SQL  \n",
       "13                 HTML/CSS;JavaScript;SQL;TypeScript  \n",
       "16              C#;HTML/CSS;JavaScript;Python;SQL;VBA  \n",
       "17                Bash/Shell/PowerShell;HTML/CSS;Perl  \n",
       "18  Bash/Shell/PowerShell;C#;HTML/CSS;JavaScript;S...  "
      ]
     },
     "execution_count": 667,
     "metadata": {},
     "output_type": "execute_result"
    }
   ],
   "source": [
    "USdata = data[data.Country == \"United States\"]\n",
    "print(\"Size of data:\", USdata.shape)\n",
    "USdata.head()"
   ]
  },
  {
   "cell_type": "markdown",
   "metadata": {},
   "source": [
    "--------------------------------------------------------------------------------------------------------------------------------------------"
   ]
  },
  {
   "cell_type": "markdown",
   "metadata": {},
   "source": [
    "1) First lets begin by seeing if there is a correlation between years coding and salary."
   ]
  },
  {
   "cell_type": "code",
   "execution_count": 668,
   "metadata": {
    "scrolled": true
   },
   "outputs": [
    {
     "name": "stdout",
     "output_type": "stream",
     "text": [
      "Size of data: (8171, 2)\n"
     ]
    },
    {
     "data": {
      "text/html": [
       "<div>\n",
       "<style scoped>\n",
       "    .dataframe tbody tr th:only-of-type {\n",
       "        vertical-align: middle;\n",
       "    }\n",
       "\n",
       "    .dataframe tbody tr th {\n",
       "        vertical-align: top;\n",
       "    }\n",
       "\n",
       "    .dataframe thead th {\n",
       "        text-align: right;\n",
       "    }\n",
       "</style>\n",
       "<table border=\"1\" class=\"dataframe\">\n",
       "  <thead>\n",
       "    <tr style=\"text-align: right;\">\n",
       "      <th></th>\n",
       "      <th>CompTotal</th>\n",
       "      <th>YearsCode</th>\n",
       "    </tr>\n",
       "  </thead>\n",
       "  <tbody>\n",
       "    <tr>\n",
       "      <th>7</th>\n",
       "      <td>116000.0</td>\n",
       "      <td>17</td>\n",
       "    </tr>\n",
       "    <tr>\n",
       "      <th>13</th>\n",
       "      <td>66000.0</td>\n",
       "      <td>5</td>\n",
       "    </tr>\n",
       "    <tr>\n",
       "      <th>16</th>\n",
       "      <td>79000.0</td>\n",
       "      <td>7</td>\n",
       "    </tr>\n",
       "    <tr>\n",
       "      <th>17</th>\n",
       "      <td>105000.0</td>\n",
       "      <td>19</td>\n",
       "    </tr>\n",
       "    <tr>\n",
       "      <th>18</th>\n",
       "      <td>83400.0</td>\n",
       "      <td>9</td>\n",
       "    </tr>\n",
       "  </tbody>\n",
       "</table>\n",
       "</div>"
      ],
      "text/plain": [
       "    CompTotal YearsCode\n",
       "7    116000.0        17\n",
       "13    66000.0         5\n",
       "16    79000.0         7\n",
       "17   105000.0        19\n",
       "18    83400.0         9"
      ]
     },
     "execution_count": 668,
     "metadata": {},
     "output_type": "execute_result"
    }
   ],
   "source": [
    "yearsCodeData = USdata[[\"CompTotal\",\"YearsCode\"]]\n",
    "\n",
    "print(\"Size of data:\", yearsCodeData.shape)\n",
    "yearsCodeData.head()"
   ]
  },
  {
   "cell_type": "markdown",
   "metadata": {},
   "source": [
    "While it may not be shown in the .head(), there are string values within our YearsCode column that need to be dropped by turning into NaN values first."
   ]
  },
  {
   "cell_type": "code",
   "execution_count": 669,
   "metadata": {},
   "outputs": [
    {
     "name": "stdout",
     "output_type": "stream",
     "text": [
      "Size of data: (8109, 2)\n"
     ]
    },
    {
     "name": "stderr",
     "output_type": "stream",
     "text": [
      "C:\\ProgramData\\Anaconda3\\lib\\site-packages\\pandas\\core\\generic.py:5168: SettingWithCopyWarning: \n",
      "A value is trying to be set on a copy of a slice from a DataFrame.\n",
      "Try using .loc[row_indexer,col_indexer] = value instead\n",
      "\n",
      "See the caveats in the documentation: https://pandas.pydata.org/pandas-docs/stable/user_guide/indexing.html#returning-a-view-versus-a-copy\n",
      "  self[name] = value\n"
     ]
    },
    {
     "data": {
      "text/html": [
       "<div>\n",
       "<style scoped>\n",
       "    .dataframe tbody tr th:only-of-type {\n",
       "        vertical-align: middle;\n",
       "    }\n",
       "\n",
       "    .dataframe tbody tr th {\n",
       "        vertical-align: top;\n",
       "    }\n",
       "\n",
       "    .dataframe thead th {\n",
       "        text-align: right;\n",
       "    }\n",
       "</style>\n",
       "<table border=\"1\" class=\"dataframe\">\n",
       "  <thead>\n",
       "    <tr style=\"text-align: right;\">\n",
       "      <th></th>\n",
       "      <th>CompTotal</th>\n",
       "      <th>YearsCode</th>\n",
       "    </tr>\n",
       "  </thead>\n",
       "  <tbody>\n",
       "    <tr>\n",
       "      <th>7</th>\n",
       "      <td>116000.0</td>\n",
       "      <td>17.0</td>\n",
       "    </tr>\n",
       "    <tr>\n",
       "      <th>13</th>\n",
       "      <td>66000.0</td>\n",
       "      <td>5.0</td>\n",
       "    </tr>\n",
       "    <tr>\n",
       "      <th>16</th>\n",
       "      <td>79000.0</td>\n",
       "      <td>7.0</td>\n",
       "    </tr>\n",
       "    <tr>\n",
       "      <th>17</th>\n",
       "      <td>105000.0</td>\n",
       "      <td>19.0</td>\n",
       "    </tr>\n",
       "    <tr>\n",
       "      <th>18</th>\n",
       "      <td>83400.0</td>\n",
       "      <td>9.0</td>\n",
       "    </tr>\n",
       "  </tbody>\n",
       "</table>\n",
       "</div>"
      ],
      "text/plain": [
       "    CompTotal  YearsCode\n",
       "7    116000.0       17.0\n",
       "13    66000.0        5.0\n",
       "16    79000.0        7.0\n",
       "17   105000.0       19.0\n",
       "18    83400.0        9.0"
      ]
     },
     "execution_count": 669,
     "metadata": {},
     "output_type": "execute_result"
    }
   ],
   "source": [
    "yearsCodeData.YearsCode = pandas.to_numeric(yearsCodeData.YearsCode,errors=\"coerce\") #turns into NaN if unable to parse string\n",
    "yearsCodeData = yearsCodeData.dropna()\n",
    "\n",
    "print(\"Size of data:\", yearsCodeData.shape)\n",
    "yearsCodeData.head()"
   ]
  },
  {
   "cell_type": "markdown",
   "metadata": {},
   "source": [
    "After a quick examination of the data, we can see there are outliers for Age and CompTotal so we must drop them in order to conduct a proper analysis.\n",
    "\n",
    "Although there are plenty of methods of figuring out which values are outliers, let us utilize matplotlib's boxplot in order to visually see how many values are outside the lower and upper whiskers."
   ]
  },
  {
   "cell_type": "code",
   "execution_count": 670,
   "metadata": {},
   "outputs": [
    {
     "data": {
      "image/png": "[encoded data removed]",
      "text/plain": [
       "<Figure size 576x432 with 2 Axes>"
      ]
     },
     "metadata": {
      "needs_background": "light"
     },
     "output_type": "display_data"
    }
   ],
   "source": [
    "fig = plt.figure(figsize=(8, 6))\n",
    "plt.subplot(1,2,1)\n",
    "plt.subplots_adjust(hspace=0.4,wspace=0.4)\n",
    "plt.boxplot(yearsCodeData.YearsCode)\n",
    "plt.ylabel(\"YearsCode\")\n",
    "plt.grid()\n",
    "plt.subplot(1,2,2)\n",
    "plt.boxplot(yearsCodeData.CompTotal)\n",
    "plt.ylabel(\"CompTotal\")\n",
    "plt.grid()\n",
    "plt.show()"
   ]
  },
  {
   "cell_type": "markdown",
   "metadata": {},
   "source": [
    "As we can see from the two boxplots, any values outside of our whiskers we can consider removing from our data.It is also important to notice that the outliers are so extreme for CompTotal that the boxplot is actually invisible. \n",
    "\n",
    "Now in order to drop the outliers, let us multiply the interquartile range(IQR) by 1.5 and our range for our dataset becomes lower = lower quartile - 1.5*(IQR) and  upper = upper quartile + 1.5*(IQR). Therefore any values outside this range we shall drop.\n",
    "For more information about outliers:https://www.thoughtco.com/what-is-an-outlier-3126227"
   ]
  },
  {
   "cell_type": "code",
   "execution_count": 671,
   "metadata": {},
   "outputs": [
    {
     "name": "stdout",
     "output_type": "stream",
     "text": [
      "Size of data: (7695, 2)\n"
     ]
    },
    {
     "data": {
      "text/html": [
       "<div>\n",
       "<style scoped>\n",
       "    .dataframe tbody tr th:only-of-type {\n",
       "        vertical-align: middle;\n",
       "    }\n",
       "\n",
       "    .dataframe tbody tr th {\n",
       "        vertical-align: top;\n",
       "    }\n",
       "\n",
       "    .dataframe thead th {\n",
       "        text-align: right;\n",
       "    }\n",
       "</style>\n",
       "<table border=\"1\" class=\"dataframe\">\n",
       "  <thead>\n",
       "    <tr style=\"text-align: right;\">\n",
       "      <th></th>\n",
       "      <th>CompTotal</th>\n",
       "      <th>YearsCode</th>\n",
       "    </tr>\n",
       "  </thead>\n",
       "  <tbody>\n",
       "    <tr>\n",
       "      <th>7</th>\n",
       "      <td>116000.0</td>\n",
       "      <td>17.0</td>\n",
       "    </tr>\n",
       "    <tr>\n",
       "      <th>13</th>\n",
       "      <td>66000.0</td>\n",
       "      <td>5.0</td>\n",
       "    </tr>\n",
       "    <tr>\n",
       "      <th>16</th>\n",
       "      <td>79000.0</td>\n",
       "      <td>7.0</td>\n",
       "    </tr>\n",
       "    <tr>\n",
       "      <th>17</th>\n",
       "      <td>105000.0</td>\n",
       "      <td>19.0</td>\n",
       "    </tr>\n",
       "    <tr>\n",
       "      <th>18</th>\n",
       "      <td>83400.0</td>\n",
       "      <td>9.0</td>\n",
       "    </tr>\n",
       "  </tbody>\n",
       "</table>\n",
       "</div>"
      ],
      "text/plain": [
       "    CompTotal  YearsCode\n",
       "7    116000.0       17.0\n",
       "13    66000.0        5.0\n",
       "16    79000.0        7.0\n",
       "17   105000.0       19.0\n",
       "18    83400.0        9.0"
      ]
     },
     "execution_count": 671,
     "metadata": {},
     "output_type": "execute_result"
    }
   ],
   "source": [
    "#upper quartile = 75 percentile, lower quartile = 25 percentile\n",
    "compTotalIQR = yearsCodeData.CompTotal.quantile(.75) - yearsCodeData.CompTotal.quantile(.25)\n",
    "yearsCodeIQR = yearsCodeData.YearsCode.quantile(.75) - yearsCodeData.YearsCode.quantile(.25)\n",
    "yearsCodeData = yearsCodeData.drop(yearsCodeData[yearsCodeData.CompTotal > yearsCodeData.CompTotal.quantile(.75)+1.5*compTotalIQR].index)\n",
    "yearsCodeData = yearsCodeData.drop(yearsCodeData[yearsCodeData.CompTotal < yearsCodeData.CompTotal.quantile(.25)-1.5*compTotalIQR].index)\n",
    "yearsCodeData = yearsCodeData.drop(yearsCodeData[yearsCodeData.YearsCode > yearsCodeData.YearsCode.quantile(.75)+1.5*yearsCodeIQR].index)\n",
    "yearsCodeData = yearsCodeData.drop(yearsCodeData[yearsCodeData.YearsCode < yearsCodeData.YearsCode.quantile(.25)-1.5*yearsCodeIQR].index)\n",
    "\n",
    "\n",
    "print(\"Size of data:\", yearsCodeData.shape)\n",
    "yearsCodeData.head()"
   ]
  },
  {
   "cell_type": "markdown",
   "metadata": {},
   "source": [
    "Now we may consider our data to be within a more reasonable range so let us begin plotting.\n",
    "\n",
    "For more information about the trendline I used: https://numpy.org/doc/stable/reference/generated/numpy.polyfit.html"
   ]
  },
  {
   "cell_type": "code",
   "execution_count": 672,
   "metadata": {
    "scrolled": false
   },
   "outputs": [
    {
     "data": {
      "image/png": "[encoded data removed]",
      "text/plain": [
       "<Figure size 576x432 with 1 Axes>"
      ]
     },
     "metadata": {
      "needs_background": "light"
     },
     "output_type": "display_data"
    }
   ],
   "source": [
    "figure(figsize=(8,6))\n",
    "plt.plot(yearsCodeData.CompTotal, yearsCodeData.YearsCode, \".\",label = \"data\")\n",
    "plt.title(\"YearsCode vs CompTotal\")\n",
    "plt.xlabel(\"CompTotal\")\n",
    "plt.ylabel(\"YearsCode\")\n",
    "plt.grid()\n",
    "\n",
    "#create our trendline\n",
    "z = numpy.polyfit(yearsCodeData.CompTotal,yearsCodeData.YearsCode, deg=1)\n",
    "p = numpy.poly1d(z)\n",
    "plt.plot(yearsCodeData.CompTotal, p(yearsCodeData.CompTotal),\"r\", label=\"trendline\")\n",
    "plt.legend()\n",
    "plt.show()"
   ]
  },
  {
   "cell_type": "markdown",
   "metadata": {},
   "source": [
    "Conclusion:"
   ]
  },
  {
   "cell_type": "markdown",
   "metadata": {},
   "source": [
    "Here according to the data and trendline plotted, we can see that there is a correlation between YearsCode and the Comptotal. Although it may have seemed obvious already, the more experience people acquire within the computer science field, the more likely that they will be paid more money.\n"
   ]
  },
  {
   "cell_type": "markdown",
   "metadata": {},
   "source": [
    "-------------------------------------------------------------------------------------------------------------------------------"
   ]
  },
  {
   "cell_type": "markdown",
   "metadata": {},
   "source": [
    "2) Another useful thing to investigate would be if there is a relationship between the age someone begins coding and the amount of salary they make now."
   ]
  },
  {
   "cell_type": "code",
   "execution_count": 673,
   "metadata": {},
   "outputs": [
    {
     "name": "stdout",
     "output_type": "stream",
     "text": [
      "Size of data: (8171, 2)\n"
     ]
    },
    {
     "data": {
      "text/html": [
       "<div>\n",
       "<style scoped>\n",
       "    .dataframe tbody tr th:only-of-type {\n",
       "        vertical-align: middle;\n",
       "    }\n",
       "\n",
       "    .dataframe tbody tr th {\n",
       "        vertical-align: top;\n",
       "    }\n",
       "\n",
       "    .dataframe thead th {\n",
       "        text-align: right;\n",
       "    }\n",
       "</style>\n",
       "<table border=\"1\" class=\"dataframe\">\n",
       "  <thead>\n",
       "    <tr style=\"text-align: right;\">\n",
       "      <th></th>\n",
       "      <th>CompTotal</th>\n",
       "      <th>Age1stCode</th>\n",
       "    </tr>\n",
       "  </thead>\n",
       "  <tbody>\n",
       "    <tr>\n",
       "      <th>7</th>\n",
       "      <td>116000.0</td>\n",
       "      <td>12</td>\n",
       "    </tr>\n",
       "    <tr>\n",
       "      <th>13</th>\n",
       "      <td>66000.0</td>\n",
       "      <td>13</td>\n",
       "    </tr>\n",
       "    <tr>\n",
       "      <th>16</th>\n",
       "      <td>79000.0</td>\n",
       "      <td>14</td>\n",
       "    </tr>\n",
       "    <tr>\n",
       "      <th>17</th>\n",
       "      <td>105000.0</td>\n",
       "      <td>12</td>\n",
       "    </tr>\n",
       "    <tr>\n",
       "      <th>18</th>\n",
       "      <td>83400.0</td>\n",
       "      <td>15</td>\n",
       "    </tr>\n",
       "  </tbody>\n",
       "</table>\n",
       "</div>"
      ],
      "text/plain": [
       "    CompTotal Age1stCode\n",
       "7    116000.0         12\n",
       "13    66000.0         13\n",
       "16    79000.0         14\n",
       "17   105000.0         12\n",
       "18    83400.0         15"
      ]
     },
     "execution_count": 673,
     "metadata": {},
     "output_type": "execute_result"
    }
   ],
   "source": [
    "firstCodeData = USdata[[\"CompTotal\",\"Age1stCode\"]]\n",
    "\n",
    "print(\"Size of data:\",firstCodeData.shape)\n",
    "firstCodeData.head()"
   ]
  },
  {
   "cell_type": "markdown",
   "metadata": {},
   "source": [
    "We already know from part 1 how to prepare all of the data by removing the NaN values and removing any outliers, so let us quickly do so."
   ]
  },
  {
   "cell_type": "code",
   "execution_count": 674,
   "metadata": {},
   "outputs": [
    {
     "name": "stdout",
     "output_type": "stream",
     "text": [
      "Size of data: (7546, 2)\n"
     ]
    },
    {
     "name": "stderr",
     "output_type": "stream",
     "text": [
      "C:\\ProgramData\\Anaconda3\\lib\\site-packages\\pandas\\core\\generic.py:5168: SettingWithCopyWarning: \n",
      "A value is trying to be set on a copy of a slice from a DataFrame.\n",
      "Try using .loc[row_indexer,col_indexer] = value instead\n",
      "\n",
      "See the caveats in the documentation: https://pandas.pydata.org/pandas-docs/stable/user_guide/indexing.html#returning-a-view-versus-a-copy\n",
      "  self[name] = value\n"
     ]
    },
    {
     "data": {
      "text/html": [
       "<div>\n",
       "<style scoped>\n",
       "    .dataframe tbody tr th:only-of-type {\n",
       "        vertical-align: middle;\n",
       "    }\n",
       "\n",
       "    .dataframe tbody tr th {\n",
       "        vertical-align: top;\n",
       "    }\n",
       "\n",
       "    .dataframe thead th {\n",
       "        text-align: right;\n",
       "    }\n",
       "</style>\n",
       "<table border=\"1\" class=\"dataframe\">\n",
       "  <thead>\n",
       "    <tr style=\"text-align: right;\">\n",
       "      <th></th>\n",
       "      <th>CompTotal</th>\n",
       "      <th>Age1stCode</th>\n",
       "    </tr>\n",
       "  </thead>\n",
       "  <tbody>\n",
       "    <tr>\n",
       "      <th>7</th>\n",
       "      <td>116000.0</td>\n",
       "      <td>12.0</td>\n",
       "    </tr>\n",
       "    <tr>\n",
       "      <th>13</th>\n",
       "      <td>66000.0</td>\n",
       "      <td>13.0</td>\n",
       "    </tr>\n",
       "    <tr>\n",
       "      <th>16</th>\n",
       "      <td>79000.0</td>\n",
       "      <td>14.0</td>\n",
       "    </tr>\n",
       "    <tr>\n",
       "      <th>17</th>\n",
       "      <td>105000.0</td>\n",
       "      <td>12.0</td>\n",
       "    </tr>\n",
       "    <tr>\n",
       "      <th>18</th>\n",
       "      <td>83400.0</td>\n",
       "      <td>15.0</td>\n",
       "    </tr>\n",
       "  </tbody>\n",
       "</table>\n",
       "</div>"
      ],
      "text/plain": [
       "    CompTotal  Age1stCode\n",
       "7    116000.0        12.0\n",
       "13    66000.0        13.0\n",
       "16    79000.0        14.0\n",
       "17   105000.0        12.0\n",
       "18    83400.0        15.0"
      ]
     },
     "execution_count": 674,
     "metadata": {},
     "output_type": "execute_result"
    }
   ],
   "source": [
    "#remove any string values by turning them into NaN values first\n",
    "firstCodeData.Age1stCode = pandas.to_numeric(firstCodeData.Age1stCode,errors=\"coerce\") #turns into NaN if unable to parse string\n",
    "#remove the NaN\n",
    "firstCodeData = firstCodeData.dropna()\n",
    "\n",
    "#remove outliers\n",
    "compTotalIQR = firstCodeData.CompTotal.quantile(.75) - firstCodeData.CompTotal.quantile(.25)\n",
    "firstCodeIQR = firstCodeData.Age1stCode.quantile(.75) - firstCodeData.Age1stCode.quantile(.25)\n",
    "firstCodeData = firstCodeData.drop(firstCodeData[firstCodeData.CompTotal > firstCodeData.CompTotal.quantile(.75)+1.5*compTotalIQR].index)\n",
    "firstCodeData = firstCodeData.drop(firstCodeData[firstCodeData.CompTotal < firstCodeData.CompTotal.quantile(.25)-1.5*compTotalIQR].index)\n",
    "firstCodeData = firstCodeData.drop(firstCodeData[firstCodeData.Age1stCode > firstCodeData.Age1stCode.quantile(.75)+1.5*firstCodeIQR].index)\n",
    "firstCodeData = firstCodeData.drop(firstCodeData[firstCodeData.Age1stCode < firstCodeData.Age1stCode.quantile(.25)-1.5*firstCodeIQR].index)\n",
    "\n",
    "print(\"Size of data:\", firstCodeData.shape)\n",
    "firstCodeData.head()"
   ]
  },
  {
   "cell_type": "markdown",
   "metadata": {},
   "source": [
    "Now we can plot the data in order to see if there is a possible relationship."
   ]
  },
  {
   "cell_type": "code",
   "execution_count": 675,
   "metadata": {},
   "outputs": [
    {
     "data": {
      "image/png": "[encoded data removed]",
      "text/plain": [
       "<Figure size 720x576 with 1 Axes>"
      ]
     },
     "metadata": {
      "needs_background": "light"
     },
     "output_type": "display_data"
    }
   ],
   "source": [
    "figure(figsize=(10,8))\n",
    "plt.plot(firstCodeData.CompTotal, firstCodeData.Age1stCode, \".\",label = \"data\")\n",
    "plt.title(\"Age1stCode vs CompTotal\")\n",
    "plt.xlabel(\"CompTotal\")\n",
    "plt.ylabel(\"Age1stCode\")\n",
    "plt.grid()\n",
    "\n",
    "#create our trendline\n",
    "z = numpy.polyfit(firstCodeData.CompTotal,firstCodeData.Age1stCode, deg=1)\n",
    "p = numpy.poly1d(z)\n",
    "plt.plot(firstCodeData.CompTotal, p(firstCodeData.CompTotal),\"r\", label=\"trendline\")\n",
    "plt.legend()\n",
    "plt.show()"
   ]
  },
  {
   "cell_type": "markdown",
   "metadata": {},
   "source": [
    "Conclusion:"
   ]
  },
  {
   "cell_type": "markdown",
   "metadata": {},
   "source": [
    "After examining the plot, it becomes evident that there is a slight correlation between the age someone first begins coding and how much their salary is. The younger someone first begins to code, the more money they are likely to make in the future."
   ]
  },
  {
   "cell_type": "markdown",
   "metadata": {},
   "source": [
    "---------------------------------------------------------------------------------------------------------------------------------------------"
   ]
  },
  {
   "cell_type": "markdown",
   "metadata": {},
   "source": [
    "3) After examining the age someone first codes and how many years they have been coding for, I would think its important to see if a correlation exists between their salary and what their education level is"
   ]
  },
  {
   "cell_type": "code",
   "execution_count": 676,
   "metadata": {
    "scrolled": true
   },
   "outputs": [
    {
     "name": "stdout",
     "output_type": "stream",
     "text": [
      "Size of data: (8171, 2)\n"
     ]
    },
    {
     "data": {
      "text/html": [
       "<div>\n",
       "<style scoped>\n",
       "    .dataframe tbody tr th:only-of-type {\n",
       "        vertical-align: middle;\n",
       "    }\n",
       "\n",
       "    .dataframe tbody tr th {\n",
       "        vertical-align: top;\n",
       "    }\n",
       "\n",
       "    .dataframe thead th {\n",
       "        text-align: right;\n",
       "    }\n",
       "</style>\n",
       "<table border=\"1\" class=\"dataframe\">\n",
       "  <thead>\n",
       "    <tr style=\"text-align: right;\">\n",
       "      <th></th>\n",
       "      <th>CompTotal</th>\n",
       "      <th>EdLevel</th>\n",
       "    </tr>\n",
       "  </thead>\n",
       "  <tbody>\n",
       "    <tr>\n",
       "      <th>7</th>\n",
       "      <td>116000.0</td>\n",
       "      <td>Bachelor’s degree (B.A., B.S., B.Eng., etc.)</td>\n",
       "    </tr>\n",
       "    <tr>\n",
       "      <th>13</th>\n",
       "      <td>66000.0</td>\n",
       "      <td>Associate degree (A.A., A.S., etc.)</td>\n",
       "    </tr>\n",
       "    <tr>\n",
       "      <th>16</th>\n",
       "      <td>79000.0</td>\n",
       "      <td>Bachelor’s degree (B.A., B.S., B.Eng., etc.)</td>\n",
       "    </tr>\n",
       "    <tr>\n",
       "      <th>17</th>\n",
       "      <td>105000.0</td>\n",
       "      <td>Bachelor’s degree (B.A., B.S., B.Eng., etc.)</td>\n",
       "    </tr>\n",
       "    <tr>\n",
       "      <th>18</th>\n",
       "      <td>83400.0</td>\n",
       "      <td>Bachelor’s degree (B.A., B.S., B.Eng., etc.)</td>\n",
       "    </tr>\n",
       "  </tbody>\n",
       "</table>\n",
       "</div>"
      ],
      "text/plain": [
       "    CompTotal                                       EdLevel\n",
       "7    116000.0  Bachelor’s degree (B.A., B.S., B.Eng., etc.)\n",
       "13    66000.0           Associate degree (A.A., A.S., etc.)\n",
       "16    79000.0  Bachelor’s degree (B.A., B.S., B.Eng., etc.)\n",
       "17   105000.0  Bachelor’s degree (B.A., B.S., B.Eng., etc.)\n",
       "18    83400.0  Bachelor’s degree (B.A., B.S., B.Eng., etc.)"
      ]
     },
     "execution_count": 676,
     "metadata": {},
     "output_type": "execute_result"
    }
   ],
   "source": [
    "educationData = USdata[[\"CompTotal\", \"EdLevel\"]]\n",
    "\n",
    "print(\"Size of data:\",educationData.shape)\n",
    "educationData.head()"
   ]
  },
  {
   "cell_type": "markdown",
   "metadata": {},
   "source": [
    "Just out of curiosity, let us see all the different types of education levels users inputted into the survey so we know what we are going to be comparing."
   ]
  },
  {
   "cell_type": "code",
   "execution_count": 677,
   "metadata": {
    "scrolled": false
   },
   "outputs": [
    {
     "name": "stdout",
     "output_type": "stream",
     "text": [
      "['Bachelor’s degree (B.A., B.S., B.Eng., etc.)'\n",
      " 'Associate degree (A.A., A.S., etc.)'\n",
      " 'Master’s degree (M.A., M.S., M.Eng., MBA, etc.)'\n",
      " 'Professional degree (JD, MD, etc.)'\n",
      " 'Other doctoral degree (Ph.D., Ed.D., etc.)'\n",
      " 'Some college/university study without earning a degree'\n",
      " 'Secondary school (e.g. American high school, German Realschule or Gymnasium, etc.)'\n",
      " 'I never completed any formal education' 'Primary/elementary school' nan]\n"
     ]
    }
   ],
   "source": [
    "print(educationData.EdLevel.unique())"
   ]
  },
  {
   "cell_type": "markdown",
   "metadata": {},
   "source": [
    "Each string education level is long, so lets shorten them inside the dataframe."
   ]
  },
  {
   "cell_type": "code",
   "execution_count": 678,
   "metadata": {},
   "outputs": [
    {
     "data": {
      "text/html": [
       "<div>\n",
       "<style scoped>\n",
       "    .dataframe tbody tr th:only-of-type {\n",
       "        vertical-align: middle;\n",
       "    }\n",
       "\n",
       "    .dataframe tbody tr th {\n",
       "        vertical-align: top;\n",
       "    }\n",
       "\n",
       "    .dataframe thead th {\n",
       "        text-align: right;\n",
       "    }\n",
       "</style>\n",
       "<table border=\"1\" class=\"dataframe\">\n",
       "  <thead>\n",
       "    <tr style=\"text-align: right;\">\n",
       "      <th></th>\n",
       "      <th>CompTotal</th>\n",
       "      <th>EdLevel</th>\n",
       "    </tr>\n",
       "  </thead>\n",
       "  <tbody>\n",
       "    <tr>\n",
       "      <th>7</th>\n",
       "      <td>116000.0</td>\n",
       "      <td>Bachelor’s degree</td>\n",
       "    </tr>\n",
       "    <tr>\n",
       "      <th>13</th>\n",
       "      <td>66000.0</td>\n",
       "      <td>Associate degree</td>\n",
       "    </tr>\n",
       "    <tr>\n",
       "      <th>16</th>\n",
       "      <td>79000.0</td>\n",
       "      <td>Bachelor’s degree</td>\n",
       "    </tr>\n",
       "    <tr>\n",
       "      <th>17</th>\n",
       "      <td>105000.0</td>\n",
       "      <td>Bachelor’s degree</td>\n",
       "    </tr>\n",
       "    <tr>\n",
       "      <th>18</th>\n",
       "      <td>83400.0</td>\n",
       "      <td>Bachelor’s degree</td>\n",
       "    </tr>\n",
       "  </tbody>\n",
       "</table>\n",
       "</div>"
      ],
      "text/plain": [
       "    CompTotal             EdLevel\n",
       "7    116000.0  Bachelor’s degree \n",
       "13    66000.0   Associate degree \n",
       "16    79000.0  Bachelor’s degree \n",
       "17   105000.0  Bachelor’s degree \n",
       "18    83400.0  Bachelor’s degree "
      ]
     },
     "execution_count": 678,
     "metadata": {},
     "output_type": "execute_result"
    }
   ],
   "source": [
    "educationData = educationData.replace(\"\\(.*\",\"\",regex=True)\n",
    "educationData.head()"
   ]
  },
  {
   "cell_type": "markdown",
   "metadata": {},
   "source": [
    "Once again, lets prepare the data by removing any NaN values and all the outliers."
   ]
  },
  {
   "cell_type": "code",
   "execution_count": 679,
   "metadata": {},
   "outputs": [
    {
     "name": "stdout",
     "output_type": "stream",
     "text": [
      "Size of data: (7809, 2)\n"
     ]
    },
    {
     "data": {
      "text/html": [
       "<div>\n",
       "<style scoped>\n",
       "    .dataframe tbody tr th:only-of-type {\n",
       "        vertical-align: middle;\n",
       "    }\n",
       "\n",
       "    .dataframe tbody tr th {\n",
       "        vertical-align: top;\n",
       "    }\n",
       "\n",
       "    .dataframe thead th {\n",
       "        text-align: right;\n",
       "    }\n",
       "</style>\n",
       "<table border=\"1\" class=\"dataframe\">\n",
       "  <thead>\n",
       "    <tr style=\"text-align: right;\">\n",
       "      <th></th>\n",
       "      <th>CompTotal</th>\n",
       "      <th>EdLevel</th>\n",
       "    </tr>\n",
       "  </thead>\n",
       "  <tbody>\n",
       "    <tr>\n",
       "      <th>7</th>\n",
       "      <td>116000.0</td>\n",
       "      <td>Bachelor’s degree</td>\n",
       "    </tr>\n",
       "    <tr>\n",
       "      <th>13</th>\n",
       "      <td>66000.0</td>\n",
       "      <td>Associate degree</td>\n",
       "    </tr>\n",
       "    <tr>\n",
       "      <th>16</th>\n",
       "      <td>79000.0</td>\n",
       "      <td>Bachelor’s degree</td>\n",
       "    </tr>\n",
       "    <tr>\n",
       "      <th>17</th>\n",
       "      <td>105000.0</td>\n",
       "      <td>Bachelor’s degree</td>\n",
       "    </tr>\n",
       "    <tr>\n",
       "      <th>18</th>\n",
       "      <td>83400.0</td>\n",
       "      <td>Bachelor’s degree</td>\n",
       "    </tr>\n",
       "  </tbody>\n",
       "</table>\n",
       "</div>"
      ],
      "text/plain": [
       "    CompTotal             EdLevel\n",
       "7    116000.0  Bachelor’s degree \n",
       "13    66000.0   Associate degree \n",
       "16    79000.0  Bachelor’s degree \n",
       "17   105000.0  Bachelor’s degree \n",
       "18    83400.0  Bachelor’s degree "
      ]
     },
     "execution_count": 679,
     "metadata": {},
     "output_type": "execute_result"
    }
   ],
   "source": [
    "#remove the NaN\n",
    "educationData = educationData.dropna()\n",
    "\n",
    "#remove outliers\n",
    "compTotalIQR = educationData.CompTotal.quantile(.75) - educationData.CompTotal.quantile(.25)\n",
    "educationData = educationData.drop(educationData[educationData.CompTotal > educationData.CompTotal.quantile(.75)+1.5*compTotalIQR].index)\n",
    "educationData = educationData.drop(educationData[educationData.CompTotal < educationData.CompTotal.quantile(.25)-1.5*compTotalIQR].index)\n",
    "\n",
    "print(\"Size of data:\", educationData.shape)\n",
    "educationData.head()"
   ]
  },
  {
   "cell_type": "markdown",
   "metadata": {},
   "source": [
    "Now let us begin our plotting.\n",
    "\n",
    "However, it is important to notice that a simple scatter plot and a trendline isn't going to work here because there is no regression occuring here. So instead, let us considering the use of boxplots but in order to do so, we will have to separate each education level into its own dataframe and plot them separately."
   ]
  },
  {
   "cell_type": "code",
   "execution_count": 680,
   "metadata": {},
   "outputs": [],
   "source": [
    "separatedEducationLevels = []\n",
    "educationLevels = educationData.EdLevel.unique()\n",
    "for level in educationLevels:\n",
    "    separatedEducationLevels.append(educationData[educationData.EdLevel == level])\n"
   ]
  },
  {
   "cell_type": "markdown",
   "metadata": {},
   "source": [
    "Now let us begin plotting using boxplots."
   ]
  },
  {
   "cell_type": "code",
   "execution_count": 681,
   "metadata": {
    "scrolled": false
   },
   "outputs": [
    {
     "data": {
      "image/png": "[encoded data removed]",
      "text/plain": [
       "<Figure size 864x864 with 9 Axes>"
      ]
     },
     "metadata": {
      "needs_background": "light"
     },
     "output_type": "display_data"
    }
   ],
   "source": [
    "fig = plt.figure(figsize=(12,12))\n",
    "plt.subplots_adjust(hspace=0.2,wspace=0.5)\n",
    "\n",
    "for i,level in enumerate(separatedEducationLevels):\n",
    "    plt.subplot(2,5,i+1)\n",
    "    plt.boxplot(separatedEducationLevels[i].CompTotal)\n",
    "    plt.xticks([1],[educationLevels[i]],rotation = -10)\n",
    "plt.show()"
   ]
  },
  {
   "cell_type": "markdown",
   "metadata": {},
   "source": [
    "Conclusion:"
   ]
  },
  {
   "cell_type": "markdown",
   "metadata": {},
   "source": [
    "After comparing each boxplot, it appears that people who obtained a masters degree on average had a higher salary. In addition, it also demonstrates that people who only recieved an associates degree or only attended secondary school on average had the lowest salary."
   ]
  },
  {
   "cell_type": "markdown",
   "metadata": {},
   "source": [
    "--------------------------------------------------------------------------------------------------------------------------------------------------"
   ]
  },
  {
   "cell_type": "markdown",
   "metadata": {},
   "source": [
    "4) Now let us see if there is some sort of correlation between coding languages and salary"
   ]
  },
  {
   "cell_type": "code",
   "execution_count": 682,
   "metadata": {},
   "outputs": [
    {
     "name": "stdout",
     "output_type": "stream",
     "text": [
      "Size of data: (8171, 2)\n"
     ]
    },
    {
     "data": {
      "text/html": [
       "<div>\n",
       "<style scoped>\n",
       "    .dataframe tbody tr th:only-of-type {\n",
       "        vertical-align: middle;\n",
       "    }\n",
       "\n",
       "    .dataframe tbody tr th {\n",
       "        vertical-align: top;\n",
       "    }\n",
       "\n",
       "    .dataframe thead th {\n",
       "        text-align: right;\n",
       "    }\n",
       "</style>\n",
       "<table border=\"1\" class=\"dataframe\">\n",
       "  <thead>\n",
       "    <tr style=\"text-align: right;\">\n",
       "      <th></th>\n",
       "      <th>CompTotal</th>\n",
       "      <th>LanguageWorkedWith</th>\n",
       "    </tr>\n",
       "  </thead>\n",
       "  <tbody>\n",
       "    <tr>\n",
       "      <th>7</th>\n",
       "      <td>116000.0</td>\n",
       "      <td>Python;SQL</td>\n",
       "    </tr>\n",
       "    <tr>\n",
       "      <th>13</th>\n",
       "      <td>66000.0</td>\n",
       "      <td>HTML/CSS;JavaScript;SQL;TypeScript</td>\n",
       "    </tr>\n",
       "    <tr>\n",
       "      <th>16</th>\n",
       "      <td>79000.0</td>\n",
       "      <td>C#;HTML/CSS;JavaScript;Python;SQL;VBA</td>\n",
       "    </tr>\n",
       "    <tr>\n",
       "      <th>17</th>\n",
       "      <td>105000.0</td>\n",
       "      <td>Bash/Shell/PowerShell;HTML/CSS;Perl</td>\n",
       "    </tr>\n",
       "    <tr>\n",
       "      <th>18</th>\n",
       "      <td>83400.0</td>\n",
       "      <td>Bash/Shell/PowerShell;C#;HTML/CSS;JavaScript;S...</td>\n",
       "    </tr>\n",
       "  </tbody>\n",
       "</table>\n",
       "</div>"
      ],
      "text/plain": [
       "    CompTotal                                 LanguageWorkedWith\n",
       "7    116000.0                                         Python;SQL\n",
       "13    66000.0                 HTML/CSS;JavaScript;SQL;TypeScript\n",
       "16    79000.0              C#;HTML/CSS;JavaScript;Python;SQL;VBA\n",
       "17   105000.0                Bash/Shell/PowerShell;HTML/CSS;Perl\n",
       "18    83400.0  Bash/Shell/PowerShell;C#;HTML/CSS;JavaScript;S..."
      ]
     },
     "execution_count": 682,
     "metadata": {},
     "output_type": "execute_result"
    }
   ],
   "source": [
    "languageData = USdata[[\"CompTotal\",\"LanguageWorkedWith\"]]\n",
    "\n",
    "print(\"Size of data:\",languageData.shape)\n",
    "languageData.head()"
   ]
  },
  {
   "cell_type": "markdown",
   "metadata": {},
   "source": [
    "Just from examining the data, we can see that one person can code using multiple different languages at once so in order to handle this we will take turns recording the data for each langauge.\n",
    "\n",
    "But first, we must remove any NaN values that may disrupt our process and any outliers."
   ]
  },
  {
   "cell_type": "code",
   "execution_count": 683,
   "metadata": {},
   "outputs": [
    {
     "name": "stdout",
     "output_type": "stream",
     "text": [
      "Size of data: (7613, 2)\n"
     ]
    },
    {
     "data": {
      "text/html": [
       "<div>\n",
       "<style scoped>\n",
       "    .dataframe tbody tr th:only-of-type {\n",
       "        vertical-align: middle;\n",
       "    }\n",
       "\n",
       "    .dataframe tbody tr th {\n",
       "        vertical-align: top;\n",
       "    }\n",
       "\n",
       "    .dataframe thead th {\n",
       "        text-align: right;\n",
       "    }\n",
       "</style>\n",
       "<table border=\"1\" class=\"dataframe\">\n",
       "  <thead>\n",
       "    <tr style=\"text-align: right;\">\n",
       "      <th></th>\n",
       "      <th>CompTotal</th>\n",
       "      <th>LanguageWorkedWith</th>\n",
       "    </tr>\n",
       "  </thead>\n",
       "  <tbody>\n",
       "    <tr>\n",
       "      <th>7</th>\n",
       "      <td>116000.0</td>\n",
       "      <td>Python;SQL</td>\n",
       "    </tr>\n",
       "    <tr>\n",
       "      <th>13</th>\n",
       "      <td>66000.0</td>\n",
       "      <td>HTML/CSS;JavaScript;SQL;TypeScript</td>\n",
       "    </tr>\n",
       "    <tr>\n",
       "      <th>16</th>\n",
       "      <td>79000.0</td>\n",
       "      <td>C#;HTML/CSS;JavaScript;Python;SQL;VBA</td>\n",
       "    </tr>\n",
       "    <tr>\n",
       "      <th>17</th>\n",
       "      <td>105000.0</td>\n",
       "      <td>Bash/Shell/PowerShell;HTML/CSS;Perl</td>\n",
       "    </tr>\n",
       "    <tr>\n",
       "      <th>18</th>\n",
       "      <td>83400.0</td>\n",
       "      <td>Bash/Shell/PowerShell;C#;HTML/CSS;JavaScript;S...</td>\n",
       "    </tr>\n",
       "  </tbody>\n",
       "</table>\n",
       "</div>"
      ],
      "text/plain": [
       "    CompTotal                                 LanguageWorkedWith\n",
       "7    116000.0                                         Python;SQL\n",
       "13    66000.0                 HTML/CSS;JavaScript;SQL;TypeScript\n",
       "16    79000.0              C#;HTML/CSS;JavaScript;Python;SQL;VBA\n",
       "17   105000.0                Bash/Shell/PowerShell;HTML/CSS;Perl\n",
       "18    83400.0  Bash/Shell/PowerShell;C#;HTML/CSS;JavaScript;S..."
      ]
     },
     "execution_count": 683,
     "metadata": {},
     "output_type": "execute_result"
    }
   ],
   "source": [
    "languageData = languageData.dropna()\n",
    "\n",
    "compTotalIQR = languageData.CompTotal.quantile(.75) - languageData.CompTotal.quantile(.25)\n",
    "languageData = languageData.drop(languageData[languageData.CompTotal > languageData.CompTotal.quantile(.75)+1.5*compTotalIQR].index)\n",
    "languageData = languageData.drop(languageData[languageData.CompTotal < languageData.CompTotal.quantile(.25)-1.5*compTotalIQR].index)\n",
    "\n",
    "print(\"Size of data:\",languageData.shape)\n",
    "languageData.head()"
   ]
  },
  {
   "cell_type": "markdown",
   "metadata": {},
   "source": [
    "Now begin creating datasets for each language."
   ]
  },
  {
   "cell_type": "code",
   "execution_count": 684,
   "metadata": {
    "scrolled": true
   },
   "outputs": [
    {
     "name": "stdout",
     "output_type": "stream",
     "text": [
      "Different languages:\n",
      " Kotlin, Bash/Shell/PowerShell, Python, TypeScript, Objective-C, R, Assembly, VBA, HTML/CSS, JavaScript, Go, Ruby, Scala, PHP, C#, Swift, Haskell, Perl, C, C++, Julia, Rust, Dart, Java, SQL\n"
     ]
    },
    {
     "name": "stderr",
     "output_type": "stream",
     "text": [
      "C:\\ProgramData\\Anaconda3\\lib\\site-packages\\pandas\\core\\strings.py:2001: UserWarning: This pattern has match groups. To actually get the groups, use str.extract.\n",
      "  return func(self, *args, **kwargs)\n"
     ]
    }
   ],
   "source": [
    "differentLanguagesData = {}\n",
    "\n",
    "#get all of the different languages in the column\n",
    "differentLanguages = list({language for row in languageData.LanguageWorkedWith.str.split(\";\") for language in row })\n",
    "\n",
    "print(\"Different languages:\\n\",(\", \").join(differentLanguages))\n",
    "\n",
    "for language in differentLanguages:\n",
    "    #a complicated regex to catch 'C' is necessary so we dont grab 'C++' or 'C#' instead\n",
    "    if language == \"C\":\n",
    "        differentLanguagesData[language] = (languageData.loc[languageData.LanguageWorkedWith.str.contains(\"(C[;])|(C)$\")])\n",
    "    #If we leave it as 'C++' a regex multiple repeat expression will rise so we dodge this by doing the following \n",
    "    elif language == \"C++\":\n",
    "        differentLanguagesData[language] = (languageData.loc[languageData.LanguageWorkedWith.str.contains(\"C+\")])\n",
    "    else:\n",
    "        differentLanguagesData[language] = (languageData.loc[languageData.LanguageWorkedWith.str.contains(language)])\n",
    "        "
   ]
  },
  {
   "cell_type": "markdown",
   "metadata": {},
   "source": [
    "Now we can create several different subplots in order to analyze all of the different salaries of the different languages."
   ]
  },
  {
   "cell_type": "code",
   "execution_count": 685,
   "metadata": {},
   "outputs": [
    {
     "data": {
      "image/png": "[encoded data removed]",
      "text/plain": [
       "<Figure size 1440x1440 with 25 Axes>"
      ]
     },
     "metadata": {
      "needs_background": "light"
     },
     "output_type": "display_data"
    }
   ],
   "source": [
    "fig = plt.figure(figsize=(20, 20))\n",
    "plt.subplots_adjust(hspace=0.2,wspace=0.3)\n",
    "i = 1\n",
    "for key,value in differentLanguagesData.items():\n",
    "    plt.subplot(5,5,i)\n",
    "    plt.boxplot(value.CompTotal)\n",
    "    plt.xticks([1],[key])\n",
    "    i+=1\n",
    "        \n",
    "plt.show()"
   ]
  },
  {
   "cell_type": "markdown",
   "metadata": {},
   "source": [
    "Wow thats a lot of data to look at! Let us quickly condense this into the top languages we are most familiar with and re-plot in order to compare."
   ]
  },
  {
   "cell_type": "code",
   "execution_count": 686,
   "metadata": {},
   "outputs": [
    {
     "data": {
      "image/png": "[encoded data removed]",
      "text/plain": [
       "<Figure size 720x720 with 6 Axes>"
      ]
     },
     "metadata": {
      "needs_background": "light"
     },
     "output_type": "display_data"
    }
   ],
   "source": [
    "languagesToPlot=[\"Python\",\"C++\",\"Java\",\"SQL\",\"C\",\"R\"]\n",
    "fig = plt.figure(figsize=(10, 10))\n",
    "plt.subplots_adjust(hspace=0.2,wspace=0.4)\n",
    "for i in range(len(languagesToPlot)):\n",
    "    plt.subplot(2,3,i+1)\n",
    "    plt.boxplot(differentLanguagesData[languagesToPlot[i]].CompTotal)\n",
    "    plt.xticks([1],[languagesToPlot[i]])\n",
    "        \n",
    "plt.show()"
   ]
  },
  {
   "cell_type": "markdown",
   "metadata": {},
   "source": [
    "Now it is much easier to look at with only six different languages to compare at once. However, these boxplots all look very similar so resort to numerical values in order to compare."
   ]
  },
  {
   "cell_type": "code",
   "execution_count": 687,
   "metadata": {
    "scrolled": true
   },
   "outputs": [
    {
     "name": "stdout",
     "output_type": "stream",
     "text": [
      "Python            CompTotal\n",
      "count    3647.000000\n",
      "mean   111852.716753\n",
      "std     53311.704159\n",
      "min         0.000000\n",
      "25%     77812.500000\n",
      "50%    108000.000000\n",
      "75%    145000.000000\n",
      "max    250000.000000 \n",
      "\n",
      "C++            CompTotal\n",
      "count    6260.000000\n",
      "mean   108301.450319\n",
      "std     50995.573261\n",
      "min         0.000000\n",
      "25%     75000.000000\n",
      "50%    104000.000000\n",
      "75%    139000.000000\n",
      "max    250000.000000 \n",
      "\n",
      "Java            CompTotal\n",
      "count    6179.000000\n",
      "mean   109230.454119\n",
      "std     50623.362501\n",
      "min         0.000000\n",
      "25%     77000.000000\n",
      "50%    105000.000000\n",
      "75%    140000.000000\n",
      "max    250000.000000 \n",
      "\n",
      "SQL            CompTotal\n",
      "count    4728.000000\n",
      "mean   108698.242809\n",
      "std     49130.270363\n",
      "min         0.000000\n",
      "25%     76500.000000\n",
      "50%    105000.000000\n",
      "75%    140000.000000\n",
      "max    250000.000000 \n",
      "\n",
      "C            CompTotal\n",
      "count    1333.000000\n",
      "mean   117373.632408\n",
      "std     57006.350048\n",
      "min         0.000000\n",
      "25%     80000.000000\n",
      "50%    115000.000000\n",
      "75%    150000.000000\n",
      "max    250000.000000 \n",
      "\n",
      "R            CompTotal\n",
      "count    1662.000000\n",
      "mean   115955.935620\n",
      "std     52671.017749\n",
      "min         0.000000\n",
      "25%     80000.000000\n",
      "50%    112500.000000\n",
      "75%    150000.000000\n",
      "max    250000.000000 \n",
      "\n"
     ]
    }
   ],
   "source": [
    "for i in range(len(languagesToPlot)):\n",
    "    print(languagesToPlot[i],differentLanguagesData[languagesToPlot[i]].describe(),\"\\n\")"
   ]
  },
  {
   "cell_type": "markdown",
   "metadata": {},
   "source": [
    "Conclusion:"
   ]
  },
  {
   "cell_type": "markdown",
   "metadata": {},
   "source": [
    "Now it becomes clear to us that among the six chosen computer science languages, people who coded in C had the highest average salary with about 139,000 per year. People who coded in SQL had the lowest average salary with about 118,000 per year. In addition, C++ actually had the lowest 25 percentile range value which actually means that of people who code in C++, 25 percent of people make less than 75,000 per year which is the lowest among the six languages.\n",
    "\n",
    "Therefore, in conclusion we can say that there is a slight correlation with how much money you make per year and which language you decide to have a career programming in."
   ]
  },
  {
   "cell_type": "markdown",
   "metadata": {},
   "source": [
    "--------------------------------------------------------------------------------------------------------------------------------"
   ]
  },
  {
   "cell_type": "markdown",
   "metadata": {},
   "source": [
    "5) Finally, I think it would be interesting to compare people who code on their free time compared to people who only do it as a job. Therefore let us CompTotal and Hobbyist"
   ]
  },
  {
   "cell_type": "markdown",
   "metadata": {},
   "source": [
    "Let us begin using the same steps from 3 and 4 in order to prepare all of the data and show what we are working with."
   ]
  },
  {
   "cell_type": "code",
   "execution_count": 688,
   "metadata": {
    "scrolled": true
   },
   "outputs": [
    {
     "name": "stdout",
     "output_type": "stream",
     "text": [
      "Size of data: (8171, 2)\n"
     ]
    },
    {
     "data": {
      "text/html": [
       "<div>\n",
       "<style scoped>\n",
       "    .dataframe tbody tr th:only-of-type {\n",
       "        vertical-align: middle;\n",
       "    }\n",
       "\n",
       "    .dataframe tbody tr th {\n",
       "        vertical-align: top;\n",
       "    }\n",
       "\n",
       "    .dataframe thead th {\n",
       "        text-align: right;\n",
       "    }\n",
       "</style>\n",
       "<table border=\"1\" class=\"dataframe\">\n",
       "  <thead>\n",
       "    <tr style=\"text-align: right;\">\n",
       "      <th></th>\n",
       "      <th>CompTotal</th>\n",
       "      <th>Hobbyist</th>\n",
       "    </tr>\n",
       "  </thead>\n",
       "  <tbody>\n",
       "    <tr>\n",
       "      <th>7</th>\n",
       "      <td>116000.0</td>\n",
       "      <td>Yes</td>\n",
       "    </tr>\n",
       "    <tr>\n",
       "      <th>13</th>\n",
       "      <td>66000.0</td>\n",
       "      <td>Yes</td>\n",
       "    </tr>\n",
       "    <tr>\n",
       "      <th>16</th>\n",
       "      <td>79000.0</td>\n",
       "      <td>Yes</td>\n",
       "    </tr>\n",
       "    <tr>\n",
       "      <th>17</th>\n",
       "      <td>105000.0</td>\n",
       "      <td>Yes</td>\n",
       "    </tr>\n",
       "    <tr>\n",
       "      <th>18</th>\n",
       "      <td>83400.0</td>\n",
       "      <td>No</td>\n",
       "    </tr>\n",
       "  </tbody>\n",
       "</table>\n",
       "</div>"
      ],
      "text/plain": [
       "    CompTotal Hobbyist\n",
       "7    116000.0      Yes\n",
       "13    66000.0      Yes\n",
       "16    79000.0      Yes\n",
       "17   105000.0      Yes\n",
       "18    83400.0       No"
      ]
     },
     "execution_count": 688,
     "metadata": {},
     "output_type": "execute_result"
    }
   ],
   "source": [
    "hobbyistData = USdata[[\"CompTotal\",\"Hobbyist\"]]\n",
    "\n",
    "print(\"Size of data:\",hobbyistData.shape)\n",
    "hobbyistData.head()"
   ]
  },
  {
   "cell_type": "markdown",
   "metadata": {},
   "source": [
    "Drop any NaN values and remove outliers."
   ]
  },
  {
   "cell_type": "code",
   "execution_count": 689,
   "metadata": {},
   "outputs": [
    {
     "name": "stdout",
     "output_type": "stream",
     "text": [
      "Size of data: (7859, 2)\n"
     ]
    },
    {
     "data": {
      "text/html": [
       "<div>\n",
       "<style scoped>\n",
       "    .dataframe tbody tr th:only-of-type {\n",
       "        vertical-align: middle;\n",
       "    }\n",
       "\n",
       "    .dataframe tbody tr th {\n",
       "        vertical-align: top;\n",
       "    }\n",
       "\n",
       "    .dataframe thead th {\n",
       "        text-align: right;\n",
       "    }\n",
       "</style>\n",
       "<table border=\"1\" class=\"dataframe\">\n",
       "  <thead>\n",
       "    <tr style=\"text-align: right;\">\n",
       "      <th></th>\n",
       "      <th>CompTotal</th>\n",
       "      <th>Hobbyist</th>\n",
       "    </tr>\n",
       "  </thead>\n",
       "  <tbody>\n",
       "    <tr>\n",
       "      <th>7</th>\n",
       "      <td>116000.0</td>\n",
       "      <td>Yes</td>\n",
       "    </tr>\n",
       "    <tr>\n",
       "      <th>13</th>\n",
       "      <td>66000.0</td>\n",
       "      <td>Yes</td>\n",
       "    </tr>\n",
       "    <tr>\n",
       "      <th>16</th>\n",
       "      <td>79000.0</td>\n",
       "      <td>Yes</td>\n",
       "    </tr>\n",
       "    <tr>\n",
       "      <th>17</th>\n",
       "      <td>105000.0</td>\n",
       "      <td>Yes</td>\n",
       "    </tr>\n",
       "    <tr>\n",
       "      <th>18</th>\n",
       "      <td>83400.0</td>\n",
       "      <td>No</td>\n",
       "    </tr>\n",
       "  </tbody>\n",
       "</table>\n",
       "</div>"
      ],
      "text/plain": [
       "    CompTotal Hobbyist\n",
       "7    116000.0      Yes\n",
       "13    66000.0      Yes\n",
       "16    79000.0      Yes\n",
       "17   105000.0      Yes\n",
       "18    83400.0       No"
      ]
     },
     "execution_count": 689,
     "metadata": {},
     "output_type": "execute_result"
    }
   ],
   "source": [
    "hobbyistData = hobbyistData.dropna()\n",
    "\n",
    "hobbyistIQR = hobbyistData.CompTotal.quantile(.75)-hobbyistData.CompTotal.quantile(.25)\n",
    "hobbyistData = hobbyistData.drop(hobbyistData[hobbyistData.CompTotal > hobbyistData.CompTotal.quantile(.75) + 1.5*hobbyistIQR].index)\n",
    "hobbyistData = hobbyistData.drop(hobbyistData[hobbyistData.CompTotal < hobbyistData.CompTotal.quantile(.25) - 1.5*hobbyistIQR].index)\n",
    "\n",
    "print(\"Size of data:\", hobbyistData.shape)\n",
    "hobbyistData.head()"
   ]
  },
  {
   "cell_type": "markdown",
   "metadata": {},
   "source": [
    "It is good to double check that only Yes and No answers are within our data."
   ]
  },
  {
   "cell_type": "code",
   "execution_count": 690,
   "metadata": {},
   "outputs": [
    {
     "name": "stdout",
     "output_type": "stream",
     "text": [
      "['Yes' 'No']\n"
     ]
    }
   ],
   "source": [
    "print(hobbyistData.Hobbyist.unique())"
   ]
  },
  {
   "cell_type": "markdown",
   "metadata": {},
   "source": [
    "Now we can begin our analysis using boxplots once again."
   ]
  },
  {
   "cell_type": "code",
   "execution_count": 691,
   "metadata": {},
   "outputs": [
    {
     "data": {
      "image/png": "[encoded data removed]",
      "text/plain": [
       "<Figure size 576x288 with 2 Axes>"
      ]
     },
     "metadata": {
      "needs_background": "light"
     },
     "output_type": "display_data"
    }
   ],
   "source": [
    "fig = plt.figure(figsize=(8,4))\n",
    "plt.subplots_adjust(hspace=0.2,wspace=0.4)\n",
    "plt.subplot(1,2,1)\n",
    "plt.boxplot(hobbyistData[hobbyistData.Hobbyist == \"Yes\"].CompTotal)\n",
    "plt.xticks([1],[\"Yes\"])\n",
    "\n",
    "plt.subplot(1,2,2)\n",
    "plt.boxplot(hobbyistData[hobbyistData.Hobbyist == \"No\"].CompTotal)\n",
    "plt.xticks([1],[\"No\"])\n",
    "plt.show()"
   ]
  },
  {
   "cell_type": "markdown",
   "metadata": {},
   "source": [
    "Conclusion:"
   ]
  },
  {
   "cell_type": "markdown",
   "metadata": {},
   "source": [
    "Although it may be difficult to see, but if we look closely we can see that people who do program as a hobby also do tend to have a higher salary in their career. However, both interquartile ranges are very similar so I dont think we can make a definitive statement saying that if you code on your spare time, you will make more money compared to someone who doesnt."
   ]
  },
  {
   "cell_type": "markdown",
   "metadata": {},
   "source": [
    "------------------------------------------------------------------------------------------------------------------------------"
   ]
  },
  {
   "cell_type": "markdown",
   "metadata": {},
   "source": [
    "Final thoughts and suggestions:"
   ]
  },
  {
   "cell_type": "markdown",
   "metadata": {},
   "source": [
    "The dataset we worked with was fairly large since it was obtained through surverying anyone who visited stackoverflow.com for a period of time. As a result, this allowed anybody to input anything they wanted and I noticed that was the case when I was trying to investigate outliers; people had salaries bigger than the trillions(wow! they must be filthy rich!). Therefore I think this project could've been more effective if the dataset was surveryed more securely because I think the correlations would be much more evident to the data scientist looking at them, aka myself. In addition, this is a survery only conducted on stackoverflow.com so the data is automatically biased because usually only people who are looking for help visit stackoverflow, a person who may be a genius programmer who has a high salary may not be included in this dataset since they never have to visit this website for help."
   ]
  },
  {
   "cell_type": "code",
   "execution_count": null,
   "metadata": {},
   "outputs": [],
   "source": []
  }
 ],
 "metadata": {
  "kernelspec": {
   "display_name": "Python 3",
   "language": "python",
   "name": "python3"
  },
  "language_info": {
   "codemirror_mode": {
    "name": "ipython",
    "version": 3
   },
   "file_extension": ".py",
   "mimetype": "text/x-python",
   "name": "python",
   "nbconvert_exporter": "python",
   "pygments_lexer": "ipython3",
   "version": "3.8.5"
  }
 },
 "nbformat": 4,
 "nbformat_minor": 4
}
